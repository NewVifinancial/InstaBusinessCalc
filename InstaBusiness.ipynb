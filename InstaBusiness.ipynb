{
 "cells": [
  {
   "cell_type": "markdown",
   "metadata": {},
   "source": [
    "# Calculating disbursals, repayments"
   ]
  },
  {
   "cell_type": "markdown",
   "metadata": {},
   "source": [
    "Per month\n",
    "\n",
    "Rate penalty =  0.33%\n",
    "(after 24 hrs of deadline date, pen + int = new interest)\n",
    "00:00\n",
    "\n",
    "\n",
    "processing fee, penalty, interest\n",
    "\n",
    "Interest = 0.36%\n",
    "\n",
    "Fees = 0.294%\n",
    "\n"
   ]
  },
  {
   "cell_type": "code",
   "execution_count": 3,
   "metadata": {
    "scrolled": true
   },
   "outputs": [],
   "source": [
    "import numpy as np\n",
    "import datetime\n",
    "from datetime import date,timedelta"
   ]
  },
  {
   "cell_type": "code",
   "execution_count": 4,
   "metadata": {},
   "outputs": [],
   "source": [
    "def date_convert(dates):\n",
    "    daten=datetime.datetime.strptime(dates,\"%d/%m/%Y\").date()\n",
    "    return daten"
   ]
  },
  {
   "cell_type": "code",
   "execution_count": 5,
   "metadata": {},
   "outputs": [
    {
     "name": "stdout",
     "output_type": "stream",
     "text": [
      "Enter loan amount requested: 1000\n"
     ]
    }
   ],
   "source": [
    "#Loan = [100,200,350,500]\n",
    "Loan = int(input(\"Enter loan amount requested: \"))"
   ]
  },
  {
   "cell_type": "code",
   "execution_count": 19,
   "metadata": {},
   "outputs": [],
   "source": [
    "penalty_rate = 0.33/100\n",
    "interest_rate = 0.36/100\n",
    "fee = 0.294"
   ]
  },
  {
   "cell_type": "markdown",
   "metadata": {},
   "source": [
    "## Disbursal"
   ]
  },
  {
   "cell_type": "code",
   "execution_count": 17,
   "metadata": {},
   "outputs": [
    {
     "name": "stdout",
     "output_type": "stream",
     "text": [
      "\n",
      "Processing fee is: 2.94 cedis\n",
      "\n",
      "\n",
      "For a loan request of 1000 cedis, Customer will receive 997.06 cedis\n",
      "\n"
     ]
    }
   ],
   "source": [
    "# (0.36% / 100 )* loan\n",
    "# (0.294 / 100) * loan\n",
    "# loan disbursed is loan - fee\n",
    "\n",
    "interest_amount = interest_rate*Loan\n",
    "processing_fee = (0.294/100)*Loan\n",
    "Loan_disbursed = Loan - processing_fee\n",
    "\n",
    "print(\"\\nProcessing fee is: \"+ str(processing_fee) + \" cedis\\n\")\n",
    "\n",
    "print(\"\\nFor a loan request of \"+ str(Loan)+\" cedis, Customer will receive \" + str(Loan_disbursed) + \" cedis\\n\")\n",
    "\n"
   ]
  },
  {
   "cell_type": "markdown",
   "metadata": {},
   "source": [
    "## Repayment within deadline"
   ]
  },
  {
   "cell_type": "code",
   "execution_count": 18,
   "metadata": {},
   "outputs": [
    {
     "name": "stdout",
     "output_type": "stream",
     "text": [
      "\n",
      "Interest to be paid: 3.60\n",
      "\n",
      "For a loan of 1000 cedis, Customer will pay back 1003.6 cedis\n",
      "\n"
     ]
    }
   ],
   "source": [
    "#During Repayment, loan is paid back with interest and fee percentage\n",
    "\n",
    "# interest_amount = Loan +interest_rate\n",
    "# fee_amount = Loan * fee\n",
    "# total_repayment = Loan + interest_amount #+ fee_amount\n",
    "\n",
    "print(\"\\nInterest to be paid: \"+ (\"%.2f\" % interest_amount)) #+\"\\n\" + \"Fee: \"+(\"%.2f \"% fee_amount))\n",
    "calc = Loan + interest_amount #+ fee_amount\n",
    "print(\"\\nFor a loan of \"+ str(Loan)+\" cedis, Customer will pay back \" + str(calc) + \" cedis\\n\")\n"
   ]
  },
  {
   "cell_type": "markdown",
   "metadata": {},
   "source": [
    "## Repayment after deadline"
   ]
  },
  {
   "cell_type": "markdown",
   "metadata": {},
   "source": [
    "## 1 one-time"
   ]
  },
  {
   "cell_type": "code",
   "execution_count": 21,
   "metadata": {},
   "outputs": [
    {
     "name": "stdout",
     "output_type": "stream",
     "text": [
      "Repayment Date (in DD/MM/YYYY): \n",
      "08/03/2023\n"
     ]
    }
   ],
   "source": [
    "# Repayment date\n",
    "\n",
    "repayment_date=input(\"Repayment Date (in DD/MM/YYYY): \\n\")\n",
    "r_date=date_convert((repayment_date))\n"
   ]
  },
  {
   "cell_type": "code",
   "execution_count": 22,
   "metadata": {},
   "outputs": [
    {
     "data": {
      "text/plain": [
       "datetime.date(2023, 3, 8)"
      ]
     },
     "execution_count": 22,
     "metadata": {},
     "output_type": "execute_result"
    }
   ],
   "source": [
    "r_date"
   ]
  },
  {
   "cell_type": "code",
   "execution_count": 23,
   "metadata": {},
   "outputs": [
    {
     "data": {
      "text/plain": [
       "6"
      ]
     },
     "execution_count": 23,
     "metadata": {},
     "output_type": "execute_result"
    }
   ],
   "source": [
    "day = date.today() - r_date\n",
    "script = day.days\n",
    "script \n"
   ]
  },
  {
   "cell_type": "code",
   "execution_count": 24,
   "metadata": {},
   "outputs": [
    {
     "name": "stdout",
     "output_type": "stream",
     "text": [
      "Defaulting amount to be paid(penalties included): 1041.4 cedis\n"
     ]
    }
   ],
   "source": [
    "#If today's date is past repayment date, add penalty\n",
    "\n",
    "if r_date < date.today():\n",
    "    new_interest_rate = penalty_rate + interest_rate\n",
    "    new_interest_amnt = Loan * new_interest_rate\n",
    "    \n",
    "#     print(new_interest_rate)\n",
    "#     print(new_interest_amnt)\n",
    "    \n",
    "    for i in range(1,script):\n",
    "         #if another day passes they'll pay the interest amnt again + the loan\n",
    "#         print(i)\n",
    "        new_interest_amt = Loan * new_interest_rate\n",
    "#         print(new_interest_amt)\n",
    "        new_interest_amnt += new_interest_amt #+ new_interest_amt\n",
    "        \n",
    "#         print(new_interest_amnt)\n",
    "\n",
    "\n",
    "    final_loan = new_interest_amnt + Loan\n",
    "#         print(final_loan)\n",
    "    print(\"Defaulting amount to be paid(penalties included): \"+str(final_loan)+ \" cedis\")\n",
    "else:\n",
    "    print(\"Customer will pay \"+ str(calc)+ \" as repayment deadline has not passed\")\n",
    "      "
   ]
  },
  {
   "cell_type": "markdown",
   "metadata": {},
   "source": [
    "## 2 increase after every 24hrs"
   ]
  },
  {
   "cell_type": "code",
   "execution_count": 25,
   "metadata": {
    "collapsed": true
   },
   "outputs": [
    {
     "name": "stdout",
     "output_type": "stream",
     "text": [
      "0.0069\n",
      "6.8999999999999995\n",
      "0.07038\n",
      "0.09315000000000001\n",
      "0.11592000000000001\n",
      "0.13869\n",
      "0.16146000000000002\n",
      "Defaulting amount to be paid(penalties included): 1000.16146 cedis\n"
     ]
    }
   ],
   "source": [
    "# #If today's date is past repayment date, add penalty\n",
    "\n",
    "# if r_date < date.today():\n",
    "#     new_interest_rate = penalty_rate + interest_rate\n",
    "#     new_interest_amnt = Loan * new_interest_rate\n",
    "    \n",
    "#     print(new_interest_rate)\n",
    "#     print(new_interest_amnt)\n",
    "    \n",
    "#     for i in range(1,script):\n",
    "#          #if another day passes calculate a new interest + the loan\n",
    "# #         print(i)\n",
    "# #         new_interest_amt = Loan * new_interest_rate\n",
    "#         new_interest_rate += penalty_rate #+ new_interest_rate\n",
    "        \n",
    "\n",
    "# #         print(new_interest_amt)\n",
    "#         new_interest_amnt = new_interest_amt\n",
    "#         new_interest_amnt = new_interest_amnt * new_interest_rate #+ new_interest_amt\n",
    "        \n",
    "        \n",
    "        \n",
    "#         print(new_interest_amnt)\n",
    "\n",
    "\n",
    "#     final_loan = new_interest_amnt + Loan\n",
    "# #         print(final_loan)\n",
    "#     print(\"Defaulting amount to be paid(penalties included): \"+str(final_loan)+ \" cedis\")\n",
    "# else:\n",
    "#     print(\"Customer will pay \"+ str(calc)+ \" as repayment deadline has not passed\")\n",
    "      "
   ]
  },
  {
   "cell_type": "code",
   "execution_count": null,
   "metadata": {},
   "outputs": [],
   "source": []
  }
 ],
 "metadata": {
  "kernelspec": {
   "display_name": "Python 3",
   "language": "python",
   "name": "python3"
  },
  "language_info": {
   "codemirror_mode": {
    "name": "ipython",
    "version": 3
   },
   "file_extension": ".py",
   "mimetype": "text/x-python",
   "name": "python",
   "nbconvert_exporter": "python",
   "pygments_lexer": "ipython3",
   "version": "3.8.5"
  }
 },
 "nbformat": 4,
 "nbformat_minor": 4
}
